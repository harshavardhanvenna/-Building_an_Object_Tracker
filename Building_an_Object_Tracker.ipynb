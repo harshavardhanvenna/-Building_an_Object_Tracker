{
 "cells": [
  {
   "cell_type": "markdown",
   "metadata": {},
   "source": [
    "## Video Surveillance: Building an Object Tracker\n",
    "#### Using your laptop/desktop webcam, create a video of a moving object having a distant colour with respect to the background.\n",
    "#### a) Implement a mean-shift tracking algorithm for this particular object.\n",
    "#### b) Try to see the output of the algorithm on rotating the object and changing the distance of the object from the camera."
   ]
  },
  {
   "cell_type": "markdown",
   "metadata": {},
   "source": [
    "## importing libraries/library"
   ]
  },
  {
   "cell_type": "code",
   "execution_count": 1,
   "metadata": {},
   "outputs": [],
   "source": [
    "import numpy as np\n",
    "import pandas as pd"
   ]
  },
  {
   "cell_type": "code",
   "execution_count": 3,
   "metadata": {},
   "outputs": [
    {
     "name": "stdout",
     "output_type": "stream",
     "text": [
      "Requirement already satisfied: opencv-python in /Applications/anaconda/anaconda3/lib/python3.7/site-packages (4.5.1.48)\n",
      "Requirement already satisfied: numpy>=1.14.5 in /Applications/anaconda/anaconda3/lib/python3.7/site-packages (from opencv-python) (1.19.5)\n",
      "Note: you may need to restart the kernel to use updated packages.\n"
     ]
    }
   ],
   "source": [
    "pip install opencv-python"
   ]
  },
  {
   "cell_type": "code",
   "execution_count": 2,
   "metadata": {
    "scrolled": true
   },
   "outputs": [],
   "source": [
    "import cv2"
   ]
  },
  {
   "cell_type": "code",
   "execution_count": 3,
   "metadata": {},
   "outputs": [],
   "source": [
    "# reading the data from an already existing video\n",
    "cap = cv2.VideoCapture('video.mp4')\n",
    "cap.set(cv2.CAP_PROP_POS_FRAMES, 500)\n",
    "\n",
    "# reading the first frame to get detials about the object\n",
    "success,frame = cap.read()\n",
    "\n",
    "\n",
    "# getting shape of the whole frame in the video\n",
    "frame_h,frame_w = frame.shape[:2]\n",
    "size = (frame_h,frame_w)\n",
    "\n",
    "# setting values for position of the object \n",
    "w =frame_w//4\n",
    "h =frame_h//4\n",
    "x =600\n",
    "y =320\n",
    "track_window = (x,y,w,h)\n",
    "\n",
    "# cropping the object from the whole frame(or getting region of intrest(roi))\n",
    "roi = frame[y:y+h, x-w:x]\n",
    "\n",
    "# converting color system BGR to HSV(for better understanding of shadows and brightness or contrast)\n",
    "hsv_roi = cv2.cvtColor(roi,cv2.COLOR_BGR2HSV)\n",
    "mask = None\n",
    "\n",
    "# calculating the histogram values of object to know difference btw bakground and object\n",
    "roi_hist = cv2.calcHist([hsv_roi], [0], mask, [180], [0,180])\n",
    "# and normalizing the histogram values to a range of 0-255\n",
    "cv2.normalize(roi_hist,roi_hist,0,255,cv2.NORM_MINMAX)\n",
    "\n",
    "# the criteria required for mean-shift algorithm to work\n",
    "term_criteria =(cv2.TERM_CRITERIA_COUNT | cv2.TERM_CRITERIA_EPS,10,1)\n",
    "\n",
    "# creating a object to write a video or save a new video\n",
    "fourcc = cv2.VideoWriter_fourcc(*'mp4v')\n",
    "result = cv2.VideoWriter('phone.mp4',fourcc,10,(int(cap.get(3)),int(cap.get(4))))\n",
    "\n",
    "# reading the next frame in video \n",
    "true,frame = cap.read()\n",
    "while true:\n",
    "    # converting color system BGR to HSV\n",
    "    hsv = cv2.cvtColor(frame,cv2.COLOR_BGR2HSV)\n",
    "    \n",
    "    # masking the background in the frame\n",
    "    back_project = cv2.calcBackProject([hsv], [0],roi_hist, [0,180],1)\n",
    "    \n",
    "    # applying the mean-shift algorithm\n",
    "    num_iters,track_window = cv2.meanShift(back_project,track_window,term_criteria)\n",
    "    \n",
    "    # the next position of object after it has moved or changed position \n",
    "    x,y,w,h = track_window\n",
    "    \n",
    "    # drawing rectangle on new position of object\n",
    "    cv2.rectangle(frame,(x,y),(x+w,y+h),(255,0,0),2)\n",
    "    \n",
    "    # showing the masked background\n",
    "    cv2.imshow('back-projection',back_project)\n",
    "    \n",
    "    # showing the original frame with object detected\n",
    "    cv2.imshow('meanshift', frame)\n",
    "    \n",
    "    # writing the frame in the video \n",
    "    result.write(frame)\n",
    "\n",
    "    # time-gap for image to get removed from output screen\n",
    "    k = cv2.waitKey(50)\n",
    "    if k == 27:\n",
    "        break\n",
    "    if k == ord('p'):\n",
    "        cv2.waitKey(-1)\n",
    "\n",
    "    true,frame = cap.read()\n",
    "    \n",
    "cv2.destroyAllWindows()"
   ]
  },
  {
   "cell_type": "code",
   "execution_count": null,
   "metadata": {},
   "outputs": [],
   "source": []
  },
  {
   "cell_type": "code",
   "execution_count": null,
   "metadata": {},
   "outputs": [],
   "source": []
  }
 ],
 "metadata": {
  "kernelspec": {
   "display_name": "Python 3",
   "language": "python",
   "name": "python3"
  },
  "language_info": {
   "codemirror_mode": {
    "name": "ipython",
    "version": 3
   },
   "file_extension": ".py",
   "mimetype": "text/x-python",
   "name": "python",
   "nbconvert_exporter": "python",
   "pygments_lexer": "ipython3",
   "version": "3.7.6"
  }
 },
 "nbformat": 4,
 "nbformat_minor": 5
}
